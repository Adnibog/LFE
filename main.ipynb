{
 "cells": [
  {
   "cell_type": "code",
   "execution_count": 482,
   "metadata": {},
   "outputs": [],
   "source": [
    "import numpy as np\n",
    "import pandas as pd\n",
    "from sklearn.utils import shuffle\n",
    "from sklearn.preprocessing import RobustScaler"
   ]
  },
  {
   "cell_type": "code",
   "execution_count": 483,
   "metadata": {},
   "outputs": [],
   "source": [
    "data = np.loadtxt('traindata.txt')\n",
    "test_data = np.loadtxt('testinputs.txt')"
   ]
  },
  {
   "cell_type": "code",
   "execution_count": 484,
   "metadata": {},
   "outputs": [],
   "source": [
    "X_train_d = data[:, :-1] \n",
    "Y_train_d = data[:, -1]   "
   ]
  },
  {
   "cell_type": "code",
   "execution_count": 485,
   "metadata": {},
   "outputs": [
    {
     "data": {
      "text/plain": [
       "(926, 8)"
      ]
     },
     "execution_count": 485,
     "metadata": {},
     "output_type": "execute_result"
    }
   ],
   "source": [
    "X_train_d.shape"
   ]
  },
  {
   "cell_type": "code",
   "execution_count": 486,
   "metadata": {},
   "outputs": [],
   "source": [
    "X_train_d, Y_train_d = shuffle(X_train_d, Y_train_d, random_state=10)"
   ]
  },
  {
   "cell_type": "code",
   "execution_count": 487,
   "metadata": {},
   "outputs": [],
   "source": [
    "#Feature engineering\n",
    "\n",
    "def feature_engineering(X_train_d):\n",
    "    X_train_df = [None] * len(X_train_d) \n",
    "\n",
    "    for data in range (0, len(X_train_d)):\n",
    "        logs = []\n",
    "        poly = []\n",
    "        sin = []\n",
    "        cos = []\n",
    "        recip = []\n",
    "        sqrt = []\n",
    "        for i in X_train_d[data]:\n",
    "            if i ==0:\n",
    "                logs.append(0)\n",
    "                recip.append(0)\n",
    "            else:\n",
    "                logs.append(np.log(i)) \n",
    "                recip.append(1/i)\n",
    "            poly.append((i**2))   #Quadratic\n",
    "            poly.append((i**3))   #Cubic\n",
    "            sin.append(np.sin(i))\n",
    "            cos.append(np.cos(i))\n",
    "            sqrt.append(np.sqrt(i))  # Square root\n",
    "    \n",
    "\n",
    "            \n",
    "\n",
    "        logs = np.array(logs, dtype=float)\n",
    "        sin = np.array(sin, dtype=float)\n",
    "        cos = np.array(cos, dtype=float)\n",
    "        recip = np.array(recip, dtype=float)\n",
    "        sqrt = np.array(sqrt, dtype=float)\n",
    "\n",
    "\n",
    "        X_train_df[data] = np.concatenate([X_train_d[data], poly, logs[[0,4,7,3]], sin[[7]], cos[[4]], recip,sqrt])\n",
    "        \n",
    "    return np.array(X_train_df)\n"
   ]
  },
  {
   "cell_type": "code",
   "execution_count": 488,
   "metadata": {},
   "outputs": [],
   "source": [
    "X_train_df = feature_engineering(X_train_d)"
   ]
  },
  {
   "cell_type": "code",
   "execution_count": 489,
   "metadata": {},
   "outputs": [],
   "source": [
    "def Least_Squares(X, Y, P):\n",
    "\n",
    "    Z =X\n",
    "    Z = Z.T\n",
    "    \n",
    "    Z = np.array(Z,dtype=float)\n",
    "    Y = np.array(Y,dtype=float)\n",
    "\n",
    "\n",
    "    M = np.matmul(Z, Z.T)\n",
    "    S = np.matmul(Z, Y)\n",
    "    try:\n",
    "        w = np.linalg.solve(M,S)\n",
    "    except:\n",
    "        print(\"Perfect correlation leading to unviability\")\n",
    "        return 0,0\n",
    "\n",
    "    R = 1/len(X)*(np.sum(np.square([Y[i] - np.matmul(w,np.array(Z.T[i])) for i in range(0, len(X))])))\n",
    "\n",
    "    return w, R"
   ]
  },
  {
   "cell_type": "code",
   "execution_count": 490,
   "metadata": {},
   "outputs": [],
   "source": [
    "def tester(X, Y, w, P):\n",
    "    Z = X\n",
    "    Z = Z.T\n",
    "    Z = np.array(Z,dtype=float)\n",
    "    Y = np.array(Y,dtype=float)\n",
    "    R = 1/len(X)*(np.sum(np.square([Y[i] - np.matmul(w,np.array(Z.T[i])) for i in range(0, len(X))])))\n",
    "    return R"
   ]
  },
  {
   "cell_type": "code",
   "execution_count": 491,
   "metadata": {},
   "outputs": [],
   "source": [
    "def Splitter(trunk_size,set, X, Y):\n",
    "    \n",
    "    test_start = (1+set-1)*trunk_size\n",
    "    test_end = (set+1)*trunk_size\n",
    "\n",
    "    #test data\n",
    "    Y_test_data = Y[test_start:test_end]\n",
    "    X_test_data = X[test_start:test_end]\n",
    "    \n",
    "    #train data\n",
    "    try:\n",
    "        X_train_data = np.concatenate((X[0:test_start], X[test_end:]), axis=0)\n",
    "        Y_train_data = np.concatenate((Y[0:test_start], Y[test_end:]), axis=0)\n",
    "    except  Exception as e:\n",
    "        print(e)\n",
    "\n",
    "\n",
    "    return X_train_data, Y_train_data, X_test_data, Y_test_data"
   ]
  },
  {
   "cell_type": "code",
   "execution_count": 492,
   "metadata": {},
   "outputs": [],
   "source": [
    "def CrossValidation(P, K, X, Y):\n",
    "    avg_train_loss = []\n",
    "    avg_test_loss = []\n",
    "    all_w = []\n",
    "    trunk_size = int(len(X)/K)\n",
    "    for set in range(K):\n",
    "        X_train, Y_train, X_test, Y_test = Splitter(trunk_size, set, X, Y)\n",
    "        w, R = Least_Squares(X_train, Y_train, P)\n",
    "        if R == 0:\n",
    "            raise NameError('Exception in least squares')\n",
    "        avg_train_loss.append(R)\n",
    "        all_w.append(w)\n",
    "        R_test = tester(X_test, Y_test, w, P)\n",
    "        avg_test_loss.append(R_test)\n",
    "\n",
    "        min = avg_test_loss.index(np.min(avg_test_loss))\n",
    "\n",
    "    return np.mean(avg_train_loss), np.mean(avg_test_loss), all_w[min]"
   ]
  },
  {
   "cell_type": "code",
   "execution_count": 493,
   "metadata": {},
   "outputs": [],
   "source": [
    "Train_loss, Test_loss, W = CrossValidation(100, 10, X_train_df, Y_train_d)"
   ]
  },
  {
   "cell_type": "code",
   "execution_count": 494,
   "metadata": {},
   "outputs": [
    {
     "name": "stdout",
     "output_type": "stream",
     "text": [
      "The train loss is:  31.438668512681044\n",
      "The test loss is:  36.14674047312563\n"
     ]
    }
   ],
   "source": [
    "print(\"The train loss is: \", Train_loss)\n",
    "print(\"The test loss is: \", Test_loss)"
   ]
  },
  {
   "cell_type": "code",
   "execution_count": 495,
   "metadata": {},
   "outputs": [],
   "source": [
    "X_test_df = feature_engineering(test_data)"
   ]
  },
  {
   "cell_type": "code",
   "execution_count": 496,
   "metadata": {},
   "outputs": [],
   "source": [
    "def predict(X, w):\n",
    "    return [np.matmul(w,np.array(X[i])) for i in range(0, len(X))]"
   ]
  },
  {
   "cell_type": "code",
   "execution_count": 497,
   "metadata": {},
   "outputs": [],
   "source": [
    "prediction = predict(X_test_df, W)"
   ]
  },
  {
   "cell_type": "code",
   "execution_count": 498,
   "metadata": {},
   "outputs": [],
   "source": [
    "import json\n",
    "\n",
    "with open('output.txt', 'w') as filehandle:\n",
    "    json.dump(prediction, filehandle)"
   ]
  }
 ],
 "metadata": {
  "kernelspec": {
   "display_name": "Python 3",
   "language": "python",
   "name": "python3"
  },
  "language_info": {
   "codemirror_mode": {
    "name": "ipython",
    "version": 3
   },
   "file_extension": ".py",
   "mimetype": "text/x-python",
   "name": "python",
   "nbconvert_exporter": "python",
   "pygments_lexer": "ipython3",
   "version": "3.12.3"
  }
 },
 "nbformat": 4,
 "nbformat_minor": 2
}
